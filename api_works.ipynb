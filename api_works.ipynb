{
 "cells": [
  {
   "cell_type": "code",
   "execution_count": 1,
   "metadata": {},
   "outputs": [],
   "source": [
    "import requests"
   ]
  },
  {
   "cell_type": "code",
   "execution_count": 2,
   "metadata": {},
   "outputs": [
    {
     "name": "stdout",
     "output_type": "stream",
     "text": [
      "\n",
      "<!doctype html>\n",
      "<html>\n",
      "<head>\n",
      "  <meta http-equiv=\"Content-Type\" content=\"text/html; charset=UTF-8\" />\n",
      "  <link rel=\"stylesheet\" type=\"text/css\" href=\"/bootstrap.min.css\" />\n",
      "  <link rel=\"stylesheet\" type=\"text/css\" href=\"/style.css\" />\n",
      "\n",
      "  <title>open-notify.org APIs</title>\n",
      "</head>\n",
      "<body>\n",
      "\n",
      "  <div id=\"wrapper\">\n",
      "  <div id=\"content\">\n",
      "  <div id=\"header\">\n",
      "    <div class=\"container\">\n",
      "      <div class=\"navbar\">\n",
      "        <a class=\"brand\" href=\"http://www.open-notify.org\">Open Notify</a>\n",
      "        <h2>API Server</h2>\n",
      "      </div>\n",
      "    </div>\n",
      "  </div>\n",
      "\n",
      "  <div class=\"container\">\n",
      "    <div class=\"page-header\">\n",
      "      <h3>Current APIs:</h3>\n",
      "    </div>\n",
      "    <div class=\"row\">\n",
      "      <div class=\"span12\">\n",
      "\n",
      "        <h4>JSON</h4>\n",
      "        <p>\n",
      "          <table class=\"table table-bordered table-striped\">\n",
      "            <thead>\n",
      "              <tr>\n",
      "                <th>Name</th>\n",
      "                <th>Description</th>\n",
      "                <th>Documentation</th>\n",
      "              </tr>\n",
      "            </thead> \n",
      "\n",
      "            \n",
      "            <tbody>\n",
      "              <tr>\n",
      "                <td><a href=\"/iss-now.json\">ISS Location Now</a></td>\n",
      "                <td>Current ISS location over Earth (latitude/longitude)</td>\n",
      "                <td><a href=\"http://open-notify.org/Open-Notify-API/ISS-Location-Now\">ISS-Location-Now</a></td>\n",
      "              </tr>\n",
      "            </tbody>\n",
      "            \n",
      "            <tbody>\n",
      "              <tr>\n",
      "                <td><a href=\"/iss-pass.json?lat=45.0&amp;lon=-122.3\">ISS Pass Times</a></td>\n",
      "                <td>Predictions when the space station will fly over a particular location</td>\n",
      "                <td><a href=\"http://open-notify.org/Open-Notify-API/ISS-Pass-Times\">ISS-Pass-Times</a></td>\n",
      "              </tr>\n",
      "            </tbody>\n",
      "            \n",
      "            <tbody>\n",
      "              <tr>\n",
      "                <td><a href=\"/astros.json\">People in Space Right Now</a></td>\n",
      "                <td>The number of people in space at this moment. List of names when known.</td>\n",
      "                <td><a href=\"http://open-notify.org/Open-Notify-API/People-In-Space\">People-In-Space</a></td>\n",
      "              </tr>\n",
      "            </tbody>\n",
      "            \n",
      "\n",
      "          </table>\n",
      "        </p>\n",
      "      </div>\n",
      "    </div>\n",
      "\n",
      "    <div class=\"page-header\">\n",
      "      <h3>Source Code</h3>\n",
      "    </div>\n",
      "    <div class=\"row\">\n",
      "      <div class=\"span12\">\n",
      "        <p>\n",
      "          Source code for the ISS APIs: <a href=\"https://github.com/open-notify/Open-Notify-API\">github.com/open-notify/Open-Notify-API</a>\n",
      "        </p>\n",
      "      </div>\n",
      "    </div>\n",
      "\n",
      "  </div>\n",
      "  </div>\n",
      "  </div>\n",
      "  \n",
      "  <div id=\"footer\">\n",
      "    <div class=\"container\">\n",
      "      <hr />\n",
      "      Made by <a href=\"https://github.com/natronics\">@natronics</a>\n",
      "    </div>\n",
      "  </div>\n",
      "\n",
      "</body>\n",
      "</html>\n",
      "\n"
     ]
    }
   ],
   "source": [
    "request= requests.get('http://api.open-notify.org')\n",
    "print(request.text)"
   ]
  },
  {
   "cell_type": "code",
   "execution_count": 10,
   "metadata": {},
   "outputs": [
    {
     "data": {
      "text/plain": [
       "200"
      ]
     },
     "execution_count": 10,
     "metadata": {},
     "output_type": "execute_result"
    }
   ],
   "source": [
    "request.status_code"
   ]
  },
  {
   "cell_type": "code",
   "execution_count": 13,
   "metadata": {},
   "outputs": [
    {
     "name": "stdout",
     "output_type": "stream",
     "text": [
      "404\n"
     ]
    }
   ],
   "source": [
    "request2 = requests.get('http://api.open-notify.org/fake-endpoint')\n",
    "print(request2.status_code)"
   ]
  },
  {
   "cell_type": "code",
   "execution_count": 18,
   "metadata": {},
   "outputs": [
    {
     "name": "stdout",
     "output_type": "stream",
     "text": [
      "{\"number\": 3, \"message\": \"success\", \"people\": [{\"craft\": \"ISS\", \"name\": \"Chris Cassidy\"}, {\"craft\": \"ISS\", \"name\": \"Anatoly Ivanishin\"}, {\"craft\": \"ISS\", \"name\": \"Ivan Vagner\"}]}\n"
     ]
    },
    {
     "data": {
      "text/plain": [
       "requests.models.Response"
      ]
     },
     "execution_count": 18,
     "metadata": {},
     "output_type": "execute_result"
    }
   ],
   "source": [
    "people=requests.get('http://api.open-notify.org/astros.json')\n",
    "print(people.text)\n",
    "type(people)"
   ]
  },
  {
   "cell_type": "code",
   "execution_count": 19,
   "metadata": {},
   "outputs": [
    {
     "name": "stdout",
     "output_type": "stream",
     "text": [
      "{'number': 3, 'message': 'success', 'people': [{'craft': 'ISS', 'name': 'Chris Cassidy'}, {'craft': 'ISS', 'name': 'Anatoly Ivanishin'}, {'craft': 'ISS', 'name': 'Ivan Vagner'}]}\n"
     ]
    },
    {
     "data": {
      "text/plain": [
       "dict"
      ]
     },
     "execution_count": 19,
     "metadata": {},
     "output_type": "execute_result"
    }
   ],
   "source": [
    "people_json=people.json()\n",
    "print(people_json)\n",
    "type(people_json)"
   ]
  },
  {
   "cell_type": "code",
   "execution_count": 26,
   "metadata": {},
   "outputs": [
    {
     "name": "stdout",
     "output_type": "stream",
     "text": [
      "number of people in space: 3\n",
      "Chris Cassidy\n",
      "Anatoly Ivanishin\n",
      "Ivan Vagner\n"
     ]
    }
   ],
   "source": [
    "print('number of people in space:', people_json['number'])\n",
    "\n",
    "for item in people_json['people']:\n",
    "    print(item['name'])"
   ]
  },
  {
   "cell_type": "code",
   "execution_count": 28,
   "metadata": {},
   "outputs": [],
   "source": [
    "#datamuse api\n",
    "\n",
    "parameter={\"rel_rhy\":\"jingle\"}\n",
    "request=requests.get('https://api.datamuse.com/words',parameter)"
   ]
  },
  {
   "cell_type": "code",
   "execution_count": 39,
   "metadata": {},
   "outputs": [
    {
     "name": "stdout",
     "output_type": "stream",
     "text": [
      "single\n",
      "mingle\n",
      "shingle\n"
     ]
    }
   ],
   "source": [
    "rhyme_json=request.json()\n",
    "for i in rhyme_json[0:3]:\n",
    "    print(i['word'])"
   ]
  },
  {
   "cell_type": "code",
   "execution_count": 42,
   "metadata": {},
   "outputs": [
    {
     "name": "stdout",
     "output_type": "stream",
     "text": [
      "SM3790e5dbba9d47f79290f900adb53c01\n"
     ]
    }
   ],
   "source": [
    "from twilio.rest import Client\n",
    "import requests\n",
    "account_sid = 'ACdfa0468a7a038a3a5290e999a4525756'\n",
    "auth_token = '7ff4562ca199e3b75391248ce8ed5b74'\n",
    "client = Client(account_sid, auth_token)\n",
    "r = requests.get('http://api.open-notify.org/astros.json')\n",
    "people = r.json()\n",
    "number_iss = people['number']\n",
    "Message = 'Hi Fun fact,Number of people in space right now is '+str(number_iss)\n",
    "#formulate the message that will be sent\n",
    "message = client.messages.create(\n",
    "    to=\"+4917625254370\",\n",
    "    from_=\"+19167964216\",\n",
    "    body=Message)\n",
    "print(message.sid)"
   ]
  },
  {
   "cell_type": "code",
   "execution_count": null,
   "metadata": {},
   "outputs": [],
   "source": []
  },
  {
   "cell_type": "code",
   "execution_count": null,
   "metadata": {},
   "outputs": [],
   "source": []
  }
 ],
 "metadata": {
  "kernelspec": {
   "display_name": "Python 3",
   "language": "python",
   "name": "python3"
  },
  "language_info": {
   "codemirror_mode": {
    "name": "ipython",
    "version": 3
   },
   "file_extension": ".py",
   "mimetype": "text/x-python",
   "name": "python",
   "nbconvert_exporter": "python",
   "pygments_lexer": "ipython3",
   "version": "3.7.7"
  }
 },
 "nbformat": 4,
 "nbformat_minor": 4
}
