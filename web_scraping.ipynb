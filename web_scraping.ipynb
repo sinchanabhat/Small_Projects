{
  "nbformat": 4,
  "nbformat_minor": 0,
  "metadata": {
    "colab": {
      "name": "web_scraping.ipynb",
      "provenance": [],
      "authorship_tag": "ABX9TyPWvUYHaAxl3bhvzedig/tX",
      "include_colab_link": true
    },
    "kernelspec": {
      "name": "python3",
      "display_name": "Python 3"
    }
  },
  "cells": [
    {
      "cell_type": "markdown",
      "metadata": {
        "id": "view-in-github",
        "colab_type": "text"
      },
      "source": [
        "<a href=\"https://colab.research.google.com/github/sinchanabhat/Small_Projects/blob/master/web_scraping.ipynb\" target=\"_parent\"><img src=\"https://colab.research.google.com/assets/colab-badge.svg\" alt=\"Open In Colab\"/></a>"
      ]
    },
    {
      "cell_type": "code",
      "metadata": {
        "id": "Bb5IKCKDFst1",
        "colab_type": "code",
        "colab": {}
      },
      "source": [
        "import requests\n",
        "from bs4 import BeautifulSoup\n",
        "import pprint"
      ],
      "execution_count": 0,
      "outputs": []
    },
    {
      "cell_type": "code",
      "metadata": {
        "id": "EO9Qc5atGafg",
        "colab_type": "code",
        "colab": {}
      },
      "source": [
        "res=requests.get('https://news.ycombinator.com/news')\n",
        "res1=requests.get('https://news.ycombinator.com/news?p=2')\n",
        "print(res.text)"
      ],
      "execution_count": 0,
      "outputs": []
    },
    {
      "cell_type": "code",
      "metadata": {
        "id": "LKukQfabHEQG",
        "colab_type": "code",
        "colab": {}
      },
      "source": [
        "soup=BeautifulSoup(res.text,'html.parser')\n",
        "soup1=BeautifulSoup(res1.text,'html.parser')\n",
        "links=soup.select('.storylink')\n",
        "subtext=soup.select('.subtext')\n",
        "links1=soup1.select('.storylink')\n",
        "subtext1=soup1.select('.subtext')\n",
        "megalink=links + links1\n",
        "megasubtext=subtext + subtext1\n",
        "print(votes)\n",
        "print(links)\n"
      ],
      "execution_count": 0,
      "outputs": []
    },
    {
      "cell_type": "code",
      "metadata": {
        "id": "99bAmZlw4B9J",
        "colab_type": "code",
        "colab": {}
      },
      "source": [
        "def create_custom_hn(links,subtext):\n",
        "  hn=[]\n",
        "  for idx,items in enumerate(links):\n",
        "\n",
        "    title=links[idx].getText() #item.getText()\n",
        "    #print(title)\n",
        "    href=links[idx].get('href',None)  #item.getText()\n",
        "    #print(href)\n",
        "    vote=subtext[idx].select('.score')\n",
        "    #print(vote)\n",
        "    if len(vote):\n",
        "\n",
        "      points=int(vote[0].getText().replace(' points',''))\n",
        "      if points>99:\n",
        "      \n",
        "        hn.append({'title':title,'href':href,'votes':points})\n",
        "  return sorted_hn(hn)\n",
        "\n",
        "\n",
        "def sorted_hn(hn_list):\n",
        "  return sorted(hn_list,key=lambda k:k['votes'],reverse=True)\n",
        "\n"
      ],
      "execution_count": 0,
      "outputs": []
    },
    {
      "cell_type": "code",
      "metadata": {
        "id": "RRS-uEUG5y8d",
        "colab_type": "code",
        "outputId": "673dedef-0da9-4b6f-c4c1-e0c3ce27852a",
        "colab": {
          "base_uri": "https://localhost:8080/",
          "height": 1000
        }
      },
      "source": [
        "pprint.pprint(create_custom_hn(megalink,megasubtext))"
      ],
      "execution_count": 0,
      "outputs": [
        {
          "output_type": "stream",
          "text": [
            "[{'href': 'https://medium.com/@rakyll/things-i-wished-more-developers-knew-about-databases-2d0178464f78',\n",
            "  'title': 'Things I wished more developers knew about databases',\n",
            "  'votes': 893},\n",
            " {'href': 'https://wiki.ubuntu.com/FocalFossa/ReleaseNotes',\n",
            "  'title': 'Ubuntu 20.04 LTS (Focal Fossa)',\n",
            "  'votes': 522},\n",
            " {'href': 'https://techcrunch.com/2020/04/22/magic-leap-announces-layoffs-amid-covid-19-slowdown/',\n",
            "  'title': 'Magic Leap reportedly slashes jobs and steps away from consumer '\n",
            "           'plans',\n",
            "  'votes': 518},\n",
            " {'href': 'https://www.wsj.com/articles/amazon-scooped-up-data-from-its-own-sellers-to-launch-competing-products-11587650015',\n",
            "  'title': 'Amazon scooped up data from its own sellers to launch competing '\n",
            "           'products',\n",
            "  'votes': 488},\n",
            " {'href': 'https://blog.google/inside-google/infrastructure/data-centers-work-harder-sun-shines-wind-blows',\n",
            "  'title': 'Our data centers now work harder when the sun shines and wind '\n",
            "           'blows',\n",
            "  'votes': 483},\n",
            " {'href': 'https://www.bloomberg.com/news/articles/2020-04-23/apple-aims-to-sell-macs-with-its-own-chips-starting-in-2021',\n",
            "  'title': 'Apple aims to sell Macs with its own chips starting in 2021',\n",
            "  'votes': 369},\n",
            " {'href': 'https://apple.stackexchange.com/a/363933/182292',\n",
            "  'title': '“MacBook Pro runs hot? Try charging on the right and not on the '\n",
            "           'left”',\n",
            "  'votes': 286},\n",
            " {'href': 'https://med.stanford.edu/news/all-news/2013/02/immune-systems-of-healthy-adults-remember-germs-to-which-theyve-never-been-exposed-stanford-study-finds.html',\n",
            "  'title': 'Adult immune systems ‘remember’ germs to which they’ve never been '\n",
            "           'exposed (2013)',\n",
            "  'votes': 249},\n",
            " {'href': 'https://molo.ch/',\n",
            "  'title': 'AOL Moloch: open-source, large scale, packet-capturing, indexing '\n",
            "           'database system',\n",
            "  'votes': 230},\n",
            " {'href': 'https://gfx-rs.github.io/2020/04/21/wgpu-web.html',\n",
            "  'title': 'Wgpu-rs on the web',\n",
            "  'votes': 204},\n",
            " {'href': 'https://protonmail.com/blog/android-open-source/',\n",
            "  'title': 'The ProtonMail Android app is now open source',\n",
            "  'votes': 201},\n",
            " {'href': 'https://www.forbes.com/sites/carltonreid/2020/04/22/paris-to-create-650-kilometers-of-pop-up-corona-cycleways-for-post-lockdown-travel/',\n",
            "  'title': 'Paris to Create 650 Kilometers of Post-Lockdown Cycleways',\n",
            "  'votes': 201},\n",
            " {'href': 'https://blog.rust-lang.org/2020/04/23/Rust-1.43.0.html',\n",
            "  'title': 'Rust 1.43',\n",
            "  'votes': 200},\n",
            " {'href': 'https://cloud.google.com/blog/topics/anthos/anthos-for-aws-is-now-ga',\n",
            "  'title': 'Anthos support for multi-cloud is generally available',\n",
            "  'votes': 183},\n",
            " {'href': 'https://quillette.com/2020/04/23/covid-19-superspreader-events-in-28-countries-critical-patterns-and-lessons/',\n",
            "  'title': 'Covid-19 Superspreader Events in 28 Countries: Critical Patterns '\n",
            "           'and Lessons',\n",
            "  'votes': 174},\n",
            " {'href': 'https://www.theregister.co.uk/2020/04/23/uk_snoopers_charter_sequel/',\n",
            "  'title': 'UK’s Investigatory Powers Act is set to expand',\n",
            "  'votes': 156},\n",
            " {'href': 'https://docs.google.com/presentation/d/1AcB4x7JCWET0ysDr0gsX-EIdQSTyBtmi6OAW7bE0jm0/edit#slide=id.g704abb5039_2_106',\n",
            "  'title': 'EBPF is turning the Linux kernel into a microkernel',\n",
            "  'votes': 153},\n",
            " {'href': 'https://www.federalreserve.gov/monetarypolicy/bst_recenttrends.htm',\n",
            "  'title': 'Federal Reserve balance sheet trends',\n",
            "  'votes': 150},\n",
            " {'href': 'http://mhawthorne.net/posts/2013-etsy-netflix-I-push-therefore-I-am/',\n",
            "  'title': 'I push, therefore I am: two days at Etsy (2013)',\n",
            "  'votes': 145},\n",
            " {'href': 'https://www.blog.google/products/ads/advertiser-identity-verification-for-transparency/',\n",
            "  'title': 'Increasing transparency through advertiser identity verification',\n",
            "  'votes': 143},\n",
            " {'href': 'https://googleprojectzero.blogspot.com/2020/04/you-wont-believe-what-this-one-line.html',\n",
            "  'title': 'What a one line change did to the Chrome sandbox',\n",
            "  'votes': 140},\n",
            " {'href': 'http://www.haskellforall.com/2020/04/blazing-fast-fibonacci-numbers-using.html',\n",
            "  'title': 'Fast Fibonacci numbers using Monoids',\n",
            "  'votes': 135},\n",
            " {'href': 'https://www.phoronix.com/scan.php?page=article&item=xeonr-ubu1804-2004&num=9',\n",
            "  'title': 'Ubuntu 18.04 vs. 20.04 LTS Performance Preview',\n",
            "  'votes': 125},\n",
            " {'href': 'https://www.theatlantic.com/ideas/archive/2020/04/were-testing-the-wrong-people/610234/',\n",
            "  'title': 'We’re Testing the Wrong People',\n",
            "  'votes': 108},\n",
            " {'href': 'https://www.propublica.org/article/medical-staffing-companies-cut-doctors-pay-while-spending-millions-on-political-ads',\n",
            "  'title': 'Medical staffing companies cut doctors’ pay while spending '\n",
            "           'millions on ads',\n",
            "  'votes': 104}]\n"
          ],
          "name": "stdout"
        }
      ]
    },
    {
      "cell_type": "code",
      "metadata": {
        "id": "9mDos_A0ItEh",
        "colab_type": "code",
        "colab": {}
      },
      "source": [
        ""
      ],
      "execution_count": 0,
      "outputs": []
    }
  ]
}